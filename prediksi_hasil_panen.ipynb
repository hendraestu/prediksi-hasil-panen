{
  "nbformat": 4,
  "nbformat_minor": 0,
  "metadata": {
    "colab": {
      "name": "prediksi hasil panen.ipynb",
      "provenance": [],
      "collapsed_sections": []
    },
    "kernelspec": {
      "name": "python3",
      "display_name": "Python 3"
    },
    "language_info": {
      "name": "python"
    }
  },
  "cells": [
    {
      "cell_type": "code",
      "execution_count": 1,
      "metadata": {
        "id": "c9RYe_XmLs_r"
      },
      "outputs": [],
      "source": [
        "import pandas as pd\n",
        "from sklearn.linear_model import LinearRegression\n",
        "import matplotlib as plt\n",
        "from sklearn.model_selection import train_test_split"
      ]
    },
    {
      "cell_type": "code",
      "source": [
        "df = pd.read_csv('panen - Sheet1.csv')\n",
        "print(df)"
      ],
      "metadata": {
        "colab": {
          "base_uri": "https://localhost:8080/"
        },
        "id": "W27nYGJHL05R",
        "outputId": "499945d0-8bbf-415c-aa27-0ca75be1ffc1"
      },
      "execution_count": 3,
      "outputs": [
        {
          "output_type": "stream",
          "name": "stdout",
          "text": [
            "    Luas Lahan  Jumlah Bibit  Pupuk Urea  Pupuk NPK  Hasil Panen\n",
            "0            2            30         200        180           20\n",
            "1            3            32         320        290           35\n",
            "2            1            20         100        100           10\n",
            "3            4            70         430        410           39\n",
            "4            3            35         300        250           28\n",
            "5            2            25         180        150           18\n",
            "6            2            30         170        140           17\n",
            "7            3            35         310        270           29\n",
            "8            1            20          90        100            8\n",
            "9            4            65         380        400           38\n",
            "10           4            75         420        430           40\n"
          ]
        }
      ]
    },
    {
      "cell_type": "code",
      "source": [
        "df['Luas Lahan']=df['Luas Lahan'].astype(float)\n",
        "x = df[['Luas Lahan','Jumlah Bibit', 'Pupuk Urea', 'Pupuk NPK']]\n",
        "y = df['Hasil Panen']\n",
        "print(y)\n",
        "print(x)"
      ],
      "metadata": {
        "colab": {
          "base_uri": "https://localhost:8080/"
        },
        "id": "Vui31GQ3L2aD",
        "outputId": "c7f2851b-cfa7-4c9d-9680-022e0fa4df53"
      },
      "execution_count": 4,
      "outputs": [
        {
          "output_type": "stream",
          "name": "stdout",
          "text": [
            "0     20\n",
            "1     35\n",
            "2     10\n",
            "3     39\n",
            "4     28\n",
            "5     18\n",
            "6     17\n",
            "7     29\n",
            "8      8\n",
            "9     38\n",
            "10    40\n",
            "Name: Hasil Panen, dtype: int64\n",
            "    Luas Lahan  Jumlah Bibit  Pupuk Urea  Pupuk NPK\n",
            "0          2.0            30         200        180\n",
            "1          3.0            32         320        290\n",
            "2          1.0            20         100        100\n",
            "3          4.0            70         430        410\n",
            "4          3.0            35         300        250\n",
            "5          2.0            25         180        150\n",
            "6          2.0            30         170        140\n",
            "7          3.0            35         310        270\n",
            "8          1.0            20          90        100\n",
            "9          4.0            65         380        400\n",
            "10         4.0            75         420        430\n"
          ]
        }
      ]
    },
    {
      "cell_type": "code",
      "source": [
        "df.isnull().sum()"
      ],
      "metadata": {
        "colab": {
          "base_uri": "https://localhost:8080/"
        },
        "id": "z1c17JPRL_Mc",
        "outputId": "955d7f7a-4dbc-49d3-f132-b447f74aeb65"
      },
      "execution_count": 5,
      "outputs": [
        {
          "output_type": "execute_result",
          "data": {
            "text/plain": [
              "Luas Lahan      0\n",
              "Jumlah Bibit    0\n",
              "Pupuk Urea      0\n",
              "Pupuk NPK       0\n",
              "Hasil Panen     0\n",
              "dtype: int64"
            ]
          },
          "metadata": {},
          "execution_count": 5
        }
      ]
    },
    {
      "cell_type": "code",
      "source": [
        "df.corr().style.background_gradient().set_precision(2)"
      ],
      "metadata": {
        "colab": {
          "base_uri": "https://localhost:8080/",
          "height": 241
        },
        "id": "_XhWAu1gMC0w",
        "outputId": "34d9e351-88bd-4050-d6bf-6db578d672c5"
      },
      "execution_count": 6,
      "outputs": [
        {
          "output_type": "stream",
          "name": "stderr",
          "text": [
            "/usr/local/lib/python3.7/dist-packages/ipykernel_launcher.py:1: FutureWarning: this method is deprecated in favour of `Styler.format(precision=..)`\n",
            "  \"\"\"Entry point for launching an IPython kernel.\n"
          ]
        },
        {
          "output_type": "execute_result",
          "data": {
            "text/plain": [
              "<pandas.io.formats.style.Styler at 0x7f08f098b390>"
            ],
            "text/html": [
              "<style type=\"text/css\">\n",
              "#T_5c139_row0_col0, #T_5c139_row1_col1, #T_5c139_row2_col2, #T_5c139_row3_col3, #T_5c139_row4_col4 {\n",
              "  background-color: #023858;\n",
              "  color: #f1f1f1;\n",
              "}\n",
              "#T_5c139_row0_col1 {\n",
              "  background-color: #c5cce3;\n",
              "  color: #000000;\n",
              "}\n",
              "#T_5c139_row0_col2 {\n",
              "  background-color: #034f7d;\n",
              "  color: #f1f1f1;\n",
              "}\n",
              "#T_5c139_row0_col3 {\n",
              "  background-color: #4c99c5;\n",
              "  color: #f1f1f1;\n",
              "}\n",
              "#T_5c139_row0_col4 {\n",
              "  background-color: #04588a;\n",
              "  color: #f1f1f1;\n",
              "}\n",
              "#T_5c139_row1_col0, #T_5c139_row1_col2, #T_5c139_row1_col3, #T_5c139_row1_col4, #T_5c139_row4_col1 {\n",
              "  background-color: #fff7fb;\n",
              "  color: #000000;\n",
              "}\n",
              "#T_5c139_row2_col0, #T_5c139_row4_col2 {\n",
              "  background-color: #045280;\n",
              "  color: #f1f1f1;\n",
              "}\n",
              "#T_5c139_row2_col1 {\n",
              "  background-color: #d2d3e7;\n",
              "  color: #000000;\n",
              "}\n",
              "#T_5c139_row2_col3 {\n",
              "  background-color: #1b7eb7;\n",
              "  color: #f1f1f1;\n",
              "}\n",
              "#T_5c139_row2_col4 {\n",
              "  background-color: #034b76;\n",
              "  color: #f1f1f1;\n",
              "}\n",
              "#T_5c139_row3_col0 {\n",
              "  background-color: #056dac;\n",
              "  color: #f1f1f1;\n",
              "}\n",
              "#T_5c139_row3_col1 {\n",
              "  background-color: #4295c3;\n",
              "  color: #f1f1f1;\n",
              "}\n",
              "#T_5c139_row3_col2 {\n",
              "  background-color: #046097;\n",
              "  color: #f1f1f1;\n",
              "}\n",
              "#T_5c139_row3_col4 {\n",
              "  background-color: #0566a0;\n",
              "  color: #f1f1f1;\n",
              "}\n",
              "#T_5c139_row4_col0 {\n",
              "  background-color: #046299;\n",
              "  color: #f1f1f1;\n",
              "}\n",
              "#T_5c139_row4_col3 {\n",
              "  background-color: #67a4cc;\n",
              "  color: #f1f1f1;\n",
              "}\n",
              "</style>\n",
              "<table id=\"T_5c139_\" class=\"dataframe\">\n",
              "  <thead>\n",
              "    <tr>\n",
              "      <th class=\"blank level0\" >&nbsp;</th>\n",
              "      <th class=\"col_heading level0 col0\" >Luas Lahan</th>\n",
              "      <th class=\"col_heading level0 col1\" >Jumlah Bibit</th>\n",
              "      <th class=\"col_heading level0 col2\" >Pupuk Urea</th>\n",
              "      <th class=\"col_heading level0 col3\" >Pupuk NPK</th>\n",
              "      <th class=\"col_heading level0 col4\" >Hasil Panen</th>\n",
              "    </tr>\n",
              "  </thead>\n",
              "  <tbody>\n",
              "    <tr>\n",
              "      <th id=\"T_5c139_level0_row0\" class=\"row_heading level0 row0\" >Luas Lahan</th>\n",
              "      <td id=\"T_5c139_row0_col0\" class=\"data row0 col0\" >1.00</td>\n",
              "      <td id=\"T_5c139_row0_col1\" class=\"data row0 col1\" >0.90</td>\n",
              "      <td id=\"T_5c139_row0_col2\" class=\"data row0 col2\" >0.99</td>\n",
              "      <td id=\"T_5c139_row0_col3\" class=\"data row0 col3\" >0.98</td>\n",
              "      <td id=\"T_5c139_row0_col4\" class=\"data row0 col4\" >0.98</td>\n",
              "    </tr>\n",
              "    <tr>\n",
              "      <th id=\"T_5c139_level0_row1\" class=\"row_heading level0 row1\" >Jumlah Bibit</th>\n",
              "      <td id=\"T_5c139_row1_col0\" class=\"data row1 col0\" >0.90</td>\n",
              "      <td id=\"T_5c139_row1_col1\" class=\"data row1 col1\" >1.00</td>\n",
              "      <td id=\"T_5c139_row1_col2\" class=\"data row1 col2\" >0.89</td>\n",
              "      <td id=\"T_5c139_row1_col3\" class=\"data row1 col3\" >0.94</td>\n",
              "      <td id=\"T_5c139_row1_col4\" class=\"data row1 col4\" >0.86</td>\n",
              "    </tr>\n",
              "    <tr>\n",
              "      <th id=\"T_5c139_level0_row2\" class=\"row_heading level0 row2\" >Pupuk Urea</th>\n",
              "      <td id=\"T_5c139_row2_col0\" class=\"data row2 col0\" >0.99</td>\n",
              "      <td id=\"T_5c139_row2_col1\" class=\"data row2 col1\" >0.89</td>\n",
              "      <td id=\"T_5c139_row2_col2\" class=\"data row2 col2\" >1.00</td>\n",
              "      <td id=\"T_5c139_row2_col3\" class=\"data row2 col3\" >0.98</td>\n",
              "      <td id=\"T_5c139_row2_col4\" class=\"data row2 col4\" >0.99</td>\n",
              "    </tr>\n",
              "    <tr>\n",
              "      <th id=\"T_5c139_level0_row3\" class=\"row_heading level0 row3\" >Pupuk NPK</th>\n",
              "      <td id=\"T_5c139_row3_col0\" class=\"data row3 col0\" >0.98</td>\n",
              "      <td id=\"T_5c139_row3_col1\" class=\"data row3 col1\" >0.94</td>\n",
              "      <td id=\"T_5c139_row3_col2\" class=\"data row3 col2\" >0.98</td>\n",
              "      <td id=\"T_5c139_row3_col3\" class=\"data row3 col3\" >1.00</td>\n",
              "      <td id=\"T_5c139_row3_col4\" class=\"data row3 col4\" >0.97</td>\n",
              "    </tr>\n",
              "    <tr>\n",
              "      <th id=\"T_5c139_level0_row4\" class=\"row_heading level0 row4\" >Hasil Panen</th>\n",
              "      <td id=\"T_5c139_row4_col0\" class=\"data row4 col0\" >0.98</td>\n",
              "      <td id=\"T_5c139_row4_col1\" class=\"data row4 col1\" >0.86</td>\n",
              "      <td id=\"T_5c139_row4_col2\" class=\"data row4 col2\" >0.99</td>\n",
              "      <td id=\"T_5c139_row4_col3\" class=\"data row4 col3\" >0.97</td>\n",
              "      <td id=\"T_5c139_row4_col4\" class=\"data row4 col4\" >1.00</td>\n",
              "    </tr>\n",
              "  </tbody>\n",
              "</table>\n"
            ]
          },
          "metadata": {},
          "execution_count": 6
        }
      ]
    },
    {
      "cell_type": "code",
      "source": [
        "X_train,X_test,Y_train,Y_test = train_test_split(x,y,test_size=0.2)"
      ],
      "metadata": {
        "id": "m3KKh15yME6z"
      },
      "execution_count": 7,
      "outputs": []
    },
    {
      "cell_type": "code",
      "source": [
        "model = LinearRegression()"
      ],
      "metadata": {
        "id": "96G1KD15MHBk"
      },
      "execution_count": 8,
      "outputs": []
    },
    {
      "cell_type": "code",
      "source": [
        "model.fit(X_train,Y_train)"
      ],
      "metadata": {
        "colab": {
          "base_uri": "https://localhost:8080/"
        },
        "id": "TIAVYocKMIhq",
        "outputId": "dbc17ee0-c86c-4244-f402-4a856574b06a"
      },
      "execution_count": 9,
      "outputs": [
        {
          "output_type": "execute_result",
          "data": {
            "text/plain": [
              "LinearRegression()"
            ]
          },
          "metadata": {},
          "execution_count": 9
        }
      ]
    },
    {
      "cell_type": "code",
      "source": [
        "print(model.coef_)\n",
        "print(model.intercept_)"
      ],
      "metadata": {
        "colab": {
          "base_uri": "https://localhost:8080/"
        },
        "id": "9BPlTAiDMKRx",
        "outputId": "a3c62611-0349-4dd0-e9e0-d7977f7e9edb"
      },
      "execution_count": 10,
      "outputs": [
        {
          "output_type": "stream",
          "name": "stdout",
          "text": [
            "[ 2.17462856 -0.07589078  0.0187983   0.05929316]\n",
            "3.419671246603599\n"
          ]
        }
      ]
    },
    {
      "cell_type": "code",
      "source": [
        "model.score(X_test, Y_test)"
      ],
      "metadata": {
        "colab": {
          "base_uri": "https://localhost:8080/"
        },
        "id": "cNY3TXAKMLi6",
        "outputId": "2024be89-61e4-4d86-b02c-4569619c5097"
      },
      "execution_count": 11,
      "outputs": [
        {
          "output_type": "execute_result",
          "data": {
            "text/plain": [
              "0.9215772993917917"
            ]
          },
          "metadata": {},
          "execution_count": 11
        }
      ]
    },
    {
      "cell_type": "code",
      "source": [
        "model.predict([[4,80,400,410]])"
      ],
      "metadata": {
        "colab": {
          "base_uri": "https://localhost:8080/"
        },
        "id": "Uo1a2t8TMOco",
        "outputId": "8881ae21-7bce-45f2-c116-d0e95a4f6b78"
      },
      "execution_count": 12,
      "outputs": [
        {
          "output_type": "stream",
          "name": "stderr",
          "text": [
            "/usr/local/lib/python3.7/dist-packages/sklearn/base.py:451: UserWarning: X does not have valid feature names, but LinearRegression was fitted with feature names\n",
            "  \"X does not have valid feature names, but\"\n"
          ]
        },
        {
          "output_type": "execute_result",
          "data": {
            "text/plain": [
              "array([37.87643806])"
            ]
          },
          "metadata": {},
          "execution_count": 12
        }
      ]
    },
    {
      "cell_type": "code",
      "source": [
        ""
      ],
      "metadata": {
        "id": "QZ4dXoEtMP61"
      },
      "execution_count": null,
      "outputs": []
    }
  ]
}